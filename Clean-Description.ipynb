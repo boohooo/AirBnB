{
 "cells": [
  {
   "cell_type": "code",
   "execution_count": 51,
   "metadata": {},
   "outputs": [],
   "source": [
    "import pandas as pd\n",
    "import numpy as np\n",
    "\n",
    "listingsDF = pd.read_csv('listings.csv')\n",
    "\n",
    "calendarDF = pd.read_csv('calendar.csv')\n",
    "\n",
    "reviewsDF = pd.read_csv('reviews.csv')"
   ]
  },
  {
   "cell_type": "code",
   "execution_count": 52,
   "metadata": {},
   "outputs": [
    {
     "name": "stdout",
     "output_type": "stream",
     "text": [
      "<class 'pandas.core.frame.DataFrame'>\n",
      "Int64Index: 3171 entries, 0 to 3814\n",
      "Data columns (total 9 columns):\n",
      "id                      3171 non-null int64\n",
      "name                    3171 non-null object\n",
      "description             3171 non-null object\n",
      "host_id                 3171 non-null int64\n",
      "host_name               3171 non-null object\n",
      "property_type           3171 non-null object\n",
      "price                   3171 non-null float64\n",
      "number_of_reviews       3171 non-null int64\n",
      "review_scores_rating    3171 non-null float64\n",
      "dtypes: float64(2), int64(3), object(4)\n",
      "memory usage: 247.7+ KB\n"
     ]
    }
   ],
   "source": [
    "#Clean listings\n",
    "\n",
    "#Instead of dropping we select what we need\n",
    "listingsDF = listingsDF[['id', 'name','description', \n",
    "                         'host_id', 'host_name', 'property_type', 'price', \n",
    "                         'number_of_reviews', 'review_scores_rating']]\n",
    "\n",
    "#We drop all rows with empty cells\n",
    "listingsDF = listingsDF.dropna(axis=0, how='any')\n",
    "\n",
    "#Remove the '$' from price\n",
    "listingsDF.price = listingsDF.price.str.replace('[$]', '')\n",
    "\n",
    "#Remove the ',' from price\n",
    "listingsDF.price = listingsDF.price.str.replace(',', '')\n",
    "\n",
    "#Replace host name 'And' with '&'\n",
    "listingsDF.price = listingsDF.price.str.replace('And', '&')\n",
    "\n",
    "#Convert price from object to float\n",
    "listingsDF['price'] = listingsDF['price'].astype(float)\n",
    "\n",
    "#listingsDF.head()\n",
    "listingsDF.info()"
   ]
  },
  {
   "cell_type": "code",
   "execution_count": 71,
   "metadata": {},
   "outputs": [],
   "source": [
    "aDF = listingsDF[['name', 'description']]"
   ]
  },
  {
   "cell_type": "code",
   "execution_count": 72,
   "metadata": {},
   "outputs": [
    {
     "name": "stdout",
     "output_type": "stream",
     "text": [
      "<class 'pandas.core.frame.DataFrame'>\n",
      "Int64Index: 3171 entries, 0 to 3814\n",
      "Data columns (total 2 columns):\n",
      "name           3171 non-null object\n",
      "description    3171 non-null object\n",
      "dtypes: object(2)\n",
      "memory usage: 234.3+ KB\n"
     ]
    }
   ],
   "source": [
    "aDF.info()"
   ]
  },
  {
   "cell_type": "code",
   "execution_count": 73,
   "metadata": {
    "scrolled": true
   },
   "outputs": [
    {
     "name": "stderr",
     "output_type": "stream",
     "text": [
      "F:\\Anaconda3\\lib\\site-packages\\ipykernel_launcher.py:7: SettingWithCopyWarning: \n",
      "A value is trying to be set on a copy of a slice from a DataFrame.\n",
      "Try using .loc[row_indexer,col_indexer] = value instead\n",
      "\n",
      "See the caveats in the documentation: http://pandas.pydata.org/pandas-docs/stable/user_guide/indexing.html#returning-a-view-versus-a-copy\n",
      "  import sys\n",
      "F:\\Anaconda3\\lib\\site-packages\\ipykernel_launcher.py:14: SettingWithCopyWarning: \n",
      "A value is trying to be set on a copy of a slice from a DataFrame.\n",
      "Try using .loc[row_indexer,col_indexer] = value instead\n",
      "\n",
      "See the caveats in the documentation: http://pandas.pydata.org/pandas-docs/stable/user_guide/indexing.html#returning-a-view-versus-a-copy\n",
      "  \n",
      "F:\\Anaconda3\\lib\\site-packages\\ipykernel_launcher.py:15: SettingWithCopyWarning: \n",
      "A value is trying to be set on a copy of a slice from a DataFrame.\n",
      "Try using .loc[row_indexer,col_indexer] = value instead\n",
      "\n",
      "See the caveats in the documentation: http://pandas.pydata.org/pandas-docs/stable/user_guide/indexing.html#returning-a-view-versus-a-copy\n",
      "  from ipykernel import kernelapp as app\n",
      "F:\\Anaconda3\\lib\\site-packages\\ipykernel_launcher.py:16: SettingWithCopyWarning: \n",
      "A value is trying to be set on a copy of a slice from a DataFrame.\n",
      "Try using .loc[row_indexer,col_indexer] = value instead\n",
      "\n",
      "See the caveats in the documentation: http://pandas.pydata.org/pandas-docs/stable/user_guide/indexing.html#returning-a-view-versus-a-copy\n",
      "  app.launch_new_instance()\n"
     ]
    },
    {
     "data": {
      "text/html": [
       "<div>\n",
       "<style scoped>\n",
       "    .dataframe tbody tr th:only-of-type {\n",
       "        vertical-align: middle;\n",
       "    }\n",
       "\n",
       "    .dataframe tbody tr th {\n",
       "        vertical-align: top;\n",
       "    }\n",
       "\n",
       "    .dataframe thead th {\n",
       "        text-align: right;\n",
       "    }\n",
       "</style>\n",
       "<table border=\"1\" class=\"dataframe\">\n",
       "  <thead>\n",
       "    <tr style=\"text-align: right;\">\n",
       "      <th></th>\n",
       "      <th>name</th>\n",
       "      <th>description</th>\n",
       "    </tr>\n",
       "  </thead>\n",
       "  <tbody>\n",
       "    <tr>\n",
       "      <td>0</td>\n",
       "      <td>Stylish Queen Anne Apartment</td>\n",
       "      <td>make your self at home in this charming onebedroom apartment centrallylocated on the west side of queen anne hill   this elegantlydecorated completely private apartment bottom unit of a duplex has an open floor plan bamboo floors a fully equipped kitchen a tv  dvd player basic cable and a very cozy bedroom with a queensize bed the unit sleeps up to four two in the bedroom and two on the very comfortable fold out couch linens included and includes free wifi and laundry the apartment opens onto a private deck complete with its own bbq overlooking a garden and a forest of black bamboo    the apartment is perfectlylocated just one block from the bus lines where you can catch a bus and be downtown seattle in fifteen minutes or historic ballard in ten or a quick fiveminute walk will bring you to whole foods and peets coffee or take a fifteen minute walk to the top of queen anne hill where you will find a variety of eclectic shops bars and restaurants there is no</td>\n",
       "    </tr>\n",
       "    <tr>\n",
       "      <td>1</td>\n",
       "      <td>Bright &amp; Airy Queen Anne Apartment</td>\n",
       "      <td>chemically sensitive weve removed the irritants triggering allergy or asthma attacks like carpeting forced air  used pillows all culprits that harbor fungus mold  bacteria  no smoking no pets  designed for healthy living so breathe easy beautiful hypoallergenic apartment in an extremely safe quiet and pedestrianfriendly section of queen anne  a leafygreen location that puts the best of seattle at your doorstep free wifi free parking even free pillows  whats special about this place hypoallergenic bedding mattressescovers and new pillows with each rental so feel free to take your new pillows with you  a beautiful restoration mixing period details  modern sensibilities hardwood floors throughout white subway tile lowno vocs  nontoxic paints keep this homeawayfromhome clean smart and healthy radiant heat and oil radiators mean no blowing hot air or dust  great amenities free wifi  internet tv led flatscreen fullyequipped kitchen with st</td>\n",
       "    </tr>\n",
       "    <tr>\n",
       "      <td>2</td>\n",
       "      <td>New Modern House-Amazing water view</td>\n",
       "      <td>new modern house built in 2013  spectacular sunsetwater views and light rooftop deck and lounge area hot tub 5 bedrooms gourmet kitchen  perfect for 23 families walk to downtown  located in highly desirable queen anne neighborhood our house is modern light and fresh with a warm simple palette accented with barnwood steel and concrete  open living spaces for entertaining gourmet kitchen deck off the kitchen reading nook half bath and smaller tv room off kitchen  fireplace with sofa and sitting area basement room is great for kidsthis room has patio access and a garage door that opens into the space with basketball hoop right outside  a queen bedroom and full bath are in the basement with concrete heated floors  a queen sleeper sofa is in the tv area in the basement  this room has a door if privacy is needed  great for a second family with kids  the 2nd floor has 4 bedrooms one queen in master one twin bedroom another bedroom has twin bunk beds and the last</td>\n",
       "    </tr>\n",
       "    <tr>\n",
       "      <td>4</td>\n",
       "      <td>Charming craftsman 3 bdm house</td>\n",
       "      <td>cozy family craftman house in beautiful neighborhood of queen anne seattle washinton 3 bedrooms can accomodate up to 6 people 1200 sq feet space is your oasis perfect location cozy family craftman house in beautiful neighborhood of queen anne seattle washinton 3 bedrooms can accomodate up to 6 people 1200 sq feet space is your oasis perfect location walking distance to whole foods market a 7 minute drive from the seattle center space needle chihuly garden and glass childrens museum key arena across the street from golf course 2 min walk relax sun bath and watch the ferry boats go by on the large outdoor deck with a view of elliot bay   internet cable tv with hbo 3 bedrooms and 2 bathrooms each equipped with a bed for 2 king queen queen washer and dryer in the unit fully stocked kitchen with high end allclad cookware for your peace of mind we have provided a first aid kit and an emergency kit equipped with water and food we are always available</td>\n",
       "    </tr>\n",
       "    <tr>\n",
       "      <td>5</td>\n",
       "      <td>Private unit in a 1920s mansion</td>\n",
       "      <td>were renting out a small private unit of one of seattles most beautiful houses to creative travelers  the unit has its own entrance to give you privacy in a cozy room with a new bed great viewlight antiques and a newly remodeled bathroom if you include a bit of your background in your housing request youll get a better chance to have it accepted  if youre an artist or musician wanting some more space to create let me know as far as the physical space the room and bathroom are separate from the rest of the house so youll have as much privacy as you wish  it doesnt have a tv but hopefully youll find more interesting things in seattle to take your time youll get a passcode for the garage through which you get private and exclusive access to your unit i work mostly from home and happy to give advice on ways to enjoy seattle and its surrounding areas  if you let me know your schedule i could see if we have overlap this part of queen anne has wonderful views and qu</td>\n",
       "    </tr>\n",
       "    <tr>\n",
       "      <td>...</td>\n",
       "      <td>...</td>\n",
       "      <td>...</td>\n",
       "    </tr>\n",
       "    <tr>\n",
       "      <td>3810</td>\n",
       "      <td>Fremont Farmhouse</td>\n",
       "      <td>our 2br1 bath home in fremonts most fun neighborhood has a light filled back yard 12 ft bedroom ceilings and a stocked organic industrialstyle kitchen perfect for families with young kids fully loaded toys games and puzzles 1200 ft2 2br 1 bath farmhouse with a large terraced back yard perfect for a family enjoy everything fremont has to offer theo chocolate so many cafes burke gilman trail fremont fair sunday market and more or simply relax our house is your house we live here so have all the basics fully equipped kitchen semistocked pantry wifi outdoor deck and grill a garden street parking lots of toys and puzzles and art  craft supplies for young kids we make every effort to be on site to meet our guests when they arrive to walk through the house and answer any questions if we cant well provide detailed checkin instructions we communicate with guests shortly after they arrive in case anythings missing or off and are responsive during gues</td>\n",
       "    </tr>\n",
       "    <tr>\n",
       "      <td>3811</td>\n",
       "      <td>Super Convenient Top Floor Apt</td>\n",
       "      <td>in the true spirit of airbnb this unit is available when i am traveling  great views of the cascades and lake union  easy access to  uw downtown greenlake south lake union seattle center the building is older 1970s so not the modern luxury places popping up around seattle  lots of light in the unit and a great balcony where you can see the lake cascades and downtown on clear days   kitchen  fully equipped kitchen and you can help yourself to staples like cooking oil spices butter etc  coffee maker with coffee provided as well   bathroom  small but efficient space with a shower and tub   living room  couch and nice chair  40 sony hd tv with full cable hbo too roku with netflix and of course wifi  power strips throughout for charging ease balcony  great to sit outside and enjoy the view  pick some herbs if you would like for cooking or just enjoy a coffee outside in the morning full unit access with dedicated closet space for guest items except no ac</td>\n",
       "    </tr>\n",
       "    <tr>\n",
       "      <td>3812</td>\n",
       "      <td>OF THE TREE &amp; CLOUDS. KID FRIENDLY!</td>\n",
       "      <td>of the tree  clouds roots apartment is 8 blocks from fremonts center and a hop to downtown seattle its 620 square feet  sleeps 4 the décor has been lovingly agonized over kids are very welcome its 1 of a trio of airbnb apartments the 1bedroom groundfloor roots apartment is approximately 620 sq ft with almost 9 ceilings a working fireplace and exposed beams details include exposed beams spanish cast brass chandelier and a keypad for hasslefree arrival and departure it sleeps 4 with 2 in the bedroom on a queen bed  2 on the almostqueen sofabed in the living room 5 narrower than a queen same length  theres a full kitchen with a keurig kcup coffee maker the living room has a desk with a few supplies for business needs the queen bed has 4 drawers one holding extra linens sheets are all quality 100 cotton it also houses the washerdryer and has enough room for yoga the speaker is a bose soundlink mini bluetooth the bathroom is accessed through the</td>\n",
       "    </tr>\n",
       "    <tr>\n",
       "      <td>3813</td>\n",
       "      <td>3BR Mountain View House in Seattle</td>\n",
       "      <td>our 3br2ba house boasts incredible views of the olympic mountains and salmon bay plus lots of modern style were just a walk away from the zoo and fremont sunday market and convenient to university of washington and bus lines our 3br2ba house bright stylish and wheelchair accessible with breathtaking views of salmon bay and the olympic mountains beyond its the perfect perch for your seattle visit great dining shopping and attractions are just steps away  inside the house the main living and dining space furnished in attractive danish modern style enjoys a panoramic view of salmon bay and the olympic mountains relax over coffee in the living room with a decorative original midcentury fireplace fantastic views continue into the dining room which accommodates up to 8  as for cooking youll find everything you need in the fully equipped kitchen complete with stainless steel appliances lots of counter space and a kitchen bar that seats 2 venture downstairs for th</td>\n",
       "    </tr>\n",
       "    <tr>\n",
       "      <td>3814</td>\n",
       "      <td>Portage Bay View!-One Bedroom Apt</td>\n",
       "      <td>800 square foot 1 bedroom basement apartment with a fantastic view of portage bay  the apartment is in a single family home with its own outside entrance  large one bedroom has a queen bed plus another fold out queen in living area this space has a great view of portage bay with all of its marine activity  located just 5 minutes from the university of washington and just 10 minutes to the amazon campus and downtown seattle  the burke gillman trail is  very close and its a 20 minute walk to husky stadium the unit has its own outside entrance and there is space in the driveway for off street parking   currently there is limited outside space but there will be a new deck in spring of 2016  there is a small landing with a gas barbecue we will try to meet you when you arrive and we are always available by phone or tex the neighborhood is a quiet oasis that is close to all the activities in seattle uber and car2go are good options in seattle there is a bus stop 2 blocks away</td>\n",
       "    </tr>\n",
       "  </tbody>\n",
       "</table>\n",
       "<p>3171 rows × 2 columns</p>\n",
       "</div>"
      ],
      "text/plain": [
       "                                     name  \\\n",
       "0     Stylish Queen Anne Apartment          \n",
       "1     Bright & Airy Queen Anne Apartment    \n",
       "2     New Modern House-Amazing water view   \n",
       "4     Charming craftsman 3 bdm house        \n",
       "5     Private unit in a 1920s mansion       \n",
       "...                               ...       \n",
       "3810  Fremont Farmhouse                     \n",
       "3811  Super Convenient Top Floor Apt        \n",
       "3812  OF THE TREE & CLOUDS. KID FRIENDLY!   \n",
       "3813  3BR Mountain View House in Seattle    \n",
       "3814  Portage Bay View!-One Bedroom Apt     \n",
       "\n",
       "                                                                                                                                                                                                                                                                                                                                                                                                                                                                                                                                                                                                                                                                                                                                                                                                                                                                                                                                                                                                                   description  \n",
       "0     make your self at home in this charming onebedroom apartment centrallylocated on the west side of queen anne hill   this elegantlydecorated completely private apartment bottom unit of a duplex has an open floor plan bamboo floors a fully equipped kitchen a tv  dvd player basic cable and a very cozy bedroom with a queensize bed the unit sleeps up to four two in the bedroom and two on the very comfortable fold out couch linens included and includes free wifi and laundry the apartment opens onto a private deck complete with its own bbq overlooking a garden and a forest of black bamboo    the apartment is perfectlylocated just one block from the bus lines where you can catch a bus and be downtown seattle in fifteen minutes or historic ballard in ten or a quick fiveminute walk will bring you to whole foods and peets coffee or take a fifteen minute walk to the top of queen anne hill where you will find a variety of eclectic shops bars and restaurants there is no                \n",
       "1     chemically sensitive weve removed the irritants triggering allergy or asthma attacks like carpeting forced air  used pillows all culprits that harbor fungus mold  bacteria  no smoking no pets  designed for healthy living so breathe easy beautiful hypoallergenic apartment in an extremely safe quiet and pedestrianfriendly section of queen anne  a leafygreen location that puts the best of seattle at your doorstep free wifi free parking even free pillows  whats special about this place hypoallergenic bedding mattressescovers and new pillows with each rental so feel free to take your new pillows with you  a beautiful restoration mixing period details  modern sensibilities hardwood floors throughout white subway tile lowno vocs  nontoxic paints keep this homeawayfromhome clean smart and healthy radiant heat and oil radiators mean no blowing hot air or dust  great amenities free wifi  internet tv led flatscreen fullyequipped kitchen with st                                       \n",
       "2     new modern house built in 2013  spectacular sunsetwater views and light rooftop deck and lounge area hot tub 5 bedrooms gourmet kitchen  perfect for 23 families walk to downtown  located in highly desirable queen anne neighborhood our house is modern light and fresh with a warm simple palette accented with barnwood steel and concrete  open living spaces for entertaining gourmet kitchen deck off the kitchen reading nook half bath and smaller tv room off kitchen  fireplace with sofa and sitting area basement room is great for kidsthis room has patio access and a garage door that opens into the space with basketball hoop right outside  a queen bedroom and full bath are in the basement with concrete heated floors  a queen sleeper sofa is in the tv area in the basement  this room has a door if privacy is needed  great for a second family with kids  the 2nd floor has 4 bedrooms one queen in master one twin bedroom another bedroom has twin bunk beds and the last                 \n",
       "4     cozy family craftman house in beautiful neighborhood of queen anne seattle washinton 3 bedrooms can accomodate up to 6 people 1200 sq feet space is your oasis perfect location cozy family craftman house in beautiful neighborhood of queen anne seattle washinton 3 bedrooms can accomodate up to 6 people 1200 sq feet space is your oasis perfect location walking distance to whole foods market a 7 minute drive from the seattle center space needle chihuly garden and glass childrens museum key arena across the street from golf course 2 min walk relax sun bath and watch the ferry boats go by on the large outdoor deck with a view of elliot bay   internet cable tv with hbo 3 bedrooms and 2 bathrooms each equipped with a bed for 2 king queen queen washer and dryer in the unit fully stocked kitchen with high end allclad cookware for your peace of mind we have provided a first aid kit and an emergency kit equipped with water and food we are always available                             \n",
       "5     were renting out a small private unit of one of seattles most beautiful houses to creative travelers  the unit has its own entrance to give you privacy in a cozy room with a new bed great viewlight antiques and a newly remodeled bathroom if you include a bit of your background in your housing request youll get a better chance to have it accepted  if youre an artist or musician wanting some more space to create let me know as far as the physical space the room and bathroom are separate from the rest of the house so youll have as much privacy as you wish  it doesnt have a tv but hopefully youll find more interesting things in seattle to take your time youll get a passcode for the garage through which you get private and exclusive access to your unit i work mostly from home and happy to give advice on ways to enjoy seattle and its surrounding areas  if you let me know your schedule i could see if we have overlap this part of queen anne has wonderful views and qu             \n",
       "...                                                                                                                                                                                                                                                                                                                                                                                                                                                                                                                                                                                                                                                                                                                                                                                                                                                                                                                                                                                                             ...             \n",
       "3810  our 2br1 bath home in fremonts most fun neighborhood has a light filled back yard 12 ft bedroom ceilings and a stocked organic industrialstyle kitchen perfect for families with young kids fully loaded toys games and puzzles 1200 ft2 2br 1 bath farmhouse with a large terraced back yard perfect for a family enjoy everything fremont has to offer theo chocolate so many cafes burke gilman trail fremont fair sunday market and more or simply relax our house is your house we live here so have all the basics fully equipped kitchen semistocked pantry wifi outdoor deck and grill a garden street parking lots of toys and puzzles and art  craft supplies for young kids we make every effort to be on site to meet our guests when they arrive to walk through the house and answer any questions if we cant well provide detailed checkin instructions we communicate with guests shortly after they arrive in case anythings missing or off and are responsive during gues                               \n",
       "3811  in the true spirit of airbnb this unit is available when i am traveling  great views of the cascades and lake union  easy access to  uw downtown greenlake south lake union seattle center the building is older 1970s so not the modern luxury places popping up around seattle  lots of light in the unit and a great balcony where you can see the lake cascades and downtown on clear days   kitchen  fully equipped kitchen and you can help yourself to staples like cooking oil spices butter etc  coffee maker with coffee provided as well   bathroom  small but efficient space with a shower and tub   living room  couch and nice chair  40 sony hd tv with full cable hbo too roku with netflix and of course wifi  power strips throughout for charging ease balcony  great to sit outside and enjoy the view  pick some herbs if you would like for cooking or just enjoy a coffee outside in the morning full unit access with dedicated closet space for guest items except no ac                        \n",
       "3812  of the tree  clouds roots apartment is 8 blocks from fremonts center and a hop to downtown seattle its 620 square feet  sleeps 4 the décor has been lovingly agonized over kids are very welcome its 1 of a trio of airbnb apartments the 1bedroom groundfloor roots apartment is approximately 620 sq ft with almost 9 ceilings a working fireplace and exposed beams details include exposed beams spanish cast brass chandelier and a keypad for hasslefree arrival and departure it sleeps 4 with 2 in the bedroom on a queen bed  2 on the almostqueen sofabed in the living room 5 narrower than a queen same length  theres a full kitchen with a keurig kcup coffee maker the living room has a desk with a few supplies for business needs the queen bed has 4 drawers one holding extra linens sheets are all quality 100 cotton it also houses the washerdryer and has enough room for yoga the speaker is a bose soundlink mini bluetooth the bathroom is accessed through the                                \n",
       "3813  our 3br2ba house boasts incredible views of the olympic mountains and salmon bay plus lots of modern style were just a walk away from the zoo and fremont sunday market and convenient to university of washington and bus lines our 3br2ba house bright stylish and wheelchair accessible with breathtaking views of salmon bay and the olympic mountains beyond its the perfect perch for your seattle visit great dining shopping and attractions are just steps away  inside the house the main living and dining space furnished in attractive danish modern style enjoys a panoramic view of salmon bay and the olympic mountains relax over coffee in the living room with a decorative original midcentury fireplace fantastic views continue into the dining room which accommodates up to 8  as for cooking youll find everything you need in the fully equipped kitchen complete with stainless steel appliances lots of counter space and a kitchen bar that seats 2 venture downstairs for th                \n",
       "3814  800 square foot 1 bedroom basement apartment with a fantastic view of portage bay  the apartment is in a single family home with its own outside entrance  large one bedroom has a queen bed plus another fold out queen in living area this space has a great view of portage bay with all of its marine activity  located just 5 minutes from the university of washington and just 10 minutes to the amazon campus and downtown seattle  the burke gillman trail is  very close and its a 20 minute walk to husky stadium the unit has its own outside entrance and there is space in the driveway for off street parking   currently there is limited outside space but there will be a new deck in spring of 2016  there is a small landing with a gas barbecue we will try to meet you when you arrive and we are always available by phone or tex the neighborhood is a quiet oasis that is close to all the activities in seattle uber and car2go are good options in seattle there is a bus stop 2 blocks away   \n",
       "\n",
       "[3171 rows x 2 columns]"
      ]
     },
     "execution_count": 73,
     "metadata": {},
     "output_type": "execute_result"
    }
   ],
   "source": [
    "import re \n",
    "import string\n",
    "\n",
    "pd.set_option('display.max_colwidth', -1)\n",
    "\n",
    "#Convert all text to lowercase first\n",
    "aDF['description'] = aDF['description'].str.lower()\n",
    "\n",
    "#Then we remove all numbers because we only want text\n",
    "#aDF['description'] = aDF['description'].str.replace('\\d+', '') #\\d stands for any digit and + means 1 or more \n",
    "\n",
    "#As you can see we still have '\\r' '\\n' ',' '.' '()' that we need to remove\n",
    "\n",
    "aDF['description'] = aDF['description'].str.replace('[^\\w\\s]', '') #This removes all the punctuations\n",
    "aDF['description'] = aDF['description'].str.replace(r'\\n',' ', regex=True) #This relaces the \\n with space\n",
    "aDF['description'] = aDF['description'].str.replace(r'\\r','', regex=True) #\\r\n",
    "\n",
    "aDF"
   ]
  },
  {
   "cell_type": "code",
   "execution_count": null,
   "metadata": {},
   "outputs": [],
   "source": []
  },
  {
   "cell_type": "code",
   "execution_count": null,
   "metadata": {},
   "outputs": [],
   "source": []
  },
  {
   "cell_type": "code",
   "execution_count": null,
   "metadata": {},
   "outputs": [],
   "source": []
  },
  {
   "cell_type": "code",
   "execution_count": null,
   "metadata": {},
   "outputs": [],
   "source": []
  },
  {
   "cell_type": "code",
   "execution_count": null,
   "metadata": {},
   "outputs": [],
   "source": []
  },
  {
   "cell_type": "code",
   "execution_count": null,
   "metadata": {},
   "outputs": [],
   "source": []
  },
  {
   "cell_type": "code",
   "execution_count": null,
   "metadata": {},
   "outputs": [],
   "source": []
  },
  {
   "cell_type": "code",
   "execution_count": null,
   "metadata": {},
   "outputs": [],
   "source": []
  },
  {
   "cell_type": "code",
   "execution_count": null,
   "metadata": {},
   "outputs": [],
   "source": []
  },
  {
   "cell_type": "code",
   "execution_count": null,
   "metadata": {},
   "outputs": [],
   "source": []
  },
  {
   "cell_type": "code",
   "execution_count": null,
   "metadata": {},
   "outputs": [],
   "source": []
  },
  {
   "cell_type": "code",
   "execution_count": null,
   "metadata": {},
   "outputs": [],
   "source": []
  }
 ],
 "metadata": {
  "kernelspec": {
   "display_name": "Python 3",
   "language": "python",
   "name": "python3"
  },
  "language_info": {
   "codemirror_mode": {
    "name": "ipython",
    "version": 3
   },
   "file_extension": ".py",
   "mimetype": "text/x-python",
   "name": "python",
   "nbconvert_exporter": "python",
   "pygments_lexer": "ipython3",
   "version": "3.7.4"
  }
 },
 "nbformat": 4,
 "nbformat_minor": 2
}
