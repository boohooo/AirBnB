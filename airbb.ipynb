{
 "cells": [
  {
   "cell_type": "code",
   "execution_count": 22,
   "metadata": {},
   "outputs": [],
   "source": [
    "import pandas as pd\n",
    "import numpy as np\n",
    "\n",
    "listingsDF = pd.read_csv('listings.csv')\n",
    "\n",
    "calendarDF = pd.read_csv('calendar.csv')\n",
    "\n",
    "reviewsDF = pd.read_csv('reviews.csv')"
   ]
  },
  {
   "cell_type": "code",
   "execution_count": 26,
   "metadata": {},
   "outputs": [
    {
     "name": "stdout",
     "output_type": "stream",
     "text": [
      "<class 'pandas.core.frame.DataFrame'>\n",
      "Int64Index: 84283 entries, 0 to 84848\n",
      "Data columns (total 6 columns):\n",
      "listing_id       84283 non-null int64\n",
      "id               84283 non-null int64\n",
      "date             84283 non-null datetime64[ns]\n",
      "reviewer_id      84283 non-null int64\n",
      "reviewer_name    84283 non-null object\n",
      "comments         84283 non-null object\n",
      "dtypes: datetime64[ns](1), int64(3), object(2)\n",
      "memory usage: 4.5+ MB\n"
     ]
    }
   ],
   "source": [
    "#We clean reviews first\n",
    "\n",
    "#We need to remove '(email hidden)', special symbols\n",
    "reviewsDF = reviewsDF.loc[reviewsDF['reviewer_name'].str.contains(r'[^\\x00-\\x7F]+') == False]\n",
    "\n",
    "reviewsDF = reviewsDF.loc[reviewsDF['reviewer_name'].str.contains('email hidden') == False]\n",
    "\n",
    "#Then replace '()', '-'\n",
    "reviewsDF.reviewer_name = reviewsDF.reviewer_name.str.replace('[()]', '')\n",
    "\n",
    "reviewsDF.reviewer_name = reviewsDF.reviewer_name.str.replace('[-]', ' ')\n",
    "\n",
    "#Then replace 'And' with '&'\n",
    "reviewsDF.reviewer_name = reviewsDF.reviewer_name.str.replace('And', '&')\n",
    "\n",
    "#Now we remove all rows with no reviews\n",
    "reviewsDF = reviewsDF.dropna(axis=0, how='any')\n",
    "\n",
    "#Convert date from object into datetime\n",
    "reviewsDF.date = pd.to_datetime(reviewsDF.date)\n",
    "\n",
    "#Check for row\n",
    "#reviewsDF.loc[reviewsDF['reviewer_id'] == 12120141]\n",
    "\n",
    "reviewsDF.info()"
   ]
  },
  {
   "cell_type": "code",
   "execution_count": 8,
   "metadata": {},
   "outputs": [
    {
     "name": "stdout",
     "output_type": "stream",
     "text": [
      "<class 'pandas.core.frame.DataFrame'>\n",
      "Int64Index: 2668 entries, 1 to 3814\n",
      "Data columns (total 19 columns):\n",
      "id                             2668 non-null int64\n",
      "name                           2668 non-null object\n",
      "summary                        2668 non-null object\n",
      "space                          2668 non-null object\n",
      "description                    2668 non-null object\n",
      "host_id                        2668 non-null int64\n",
      "host_name                      2668 non-null object\n",
      "latitude                       2668 non-null float64\n",
      "longitude                      2668 non-null float64\n",
      "property_type                  2668 non-null object\n",
      "price                          2668 non-null float64\n",
      "number_of_reviews              2668 non-null int64\n",
      "review_scores_rating           2668 non-null float64\n",
      "review_scores_accuracy         2668 non-null float64\n",
      "review_scores_cleanliness      2668 non-null float64\n",
      "review_scores_checkin          2668 non-null float64\n",
      "review_scores_communication    2668 non-null float64\n",
      "review_scores_location         2668 non-null float64\n",
      "review_scores_value            2668 non-null float64\n",
      "dtypes: float64(10), int64(3), object(6)\n",
      "memory usage: 416.9+ KB\n"
     ]
    }
   ],
   "source": [
    "#Now we clean listings\n",
    "\n",
    "#Instead of dropping we select what we need\n",
    "listingsDF = listingsDF[['id', 'name', 'summary', 'space', 'description', \n",
    "                         'host_id', 'host_name', 'latitude', 'longitude', 'property_type', 'price', \n",
    "                         'number_of_reviews', 'review_scores_rating', 'review_scores_accuracy', 'review_scores_cleanliness', 'review_scores_checkin', 'review_scores_communication', 'review_scores_location', 'review_scores_value']]\n",
    "\n",
    "#We drop all rows with empty cells\n",
    "listingsDF = listingsDF.dropna(axis=0, how='any')\n",
    "\n",
    "#Remove the '$' from price\n",
    "listingsDF.price = listingsDF.price.str.replace('[$]', '')\n",
    "\n",
    "#Replace host name 'And' with '&'\n",
    "listingsDF.price = listingsDF.price.str.replace('And', '&')\n",
    "\n",
    "#Convert price from object to float\n",
    "listingsDF.price = listingsDF.price.astype(float)\n",
    "\n",
    "#listingsDF.head()\n",
    "listingsDF.info()"
   ]
  },
  {
   "cell_type": "code",
   "execution_count": null,
   "metadata": {},
   "outputs": [],
   "source": []
  },
  {
   "cell_type": "code",
   "execution_count": null,
   "metadata": {},
   "outputs": [],
   "source": []
  },
  {
   "cell_type": "code",
   "execution_count": null,
   "metadata": {},
   "outputs": [],
   "source": []
  },
  {
   "cell_type": "code",
   "execution_count": null,
   "metadata": {},
   "outputs": [],
   "source": []
  },
  {
   "cell_type": "code",
   "execution_count": null,
   "metadata": {},
   "outputs": [],
   "source": []
  },
  {
   "cell_type": "code",
   "execution_count": null,
   "metadata": {},
   "outputs": [],
   "source": []
  },
  {
   "cell_type": "code",
   "execution_count": null,
   "metadata": {},
   "outputs": [],
   "source": []
  },
  {
   "cell_type": "code",
   "execution_count": null,
   "metadata": {},
   "outputs": [],
   "source": []
  },
  {
   "cell_type": "code",
   "execution_count": null,
   "metadata": {},
   "outputs": [],
   "source": []
  },
  {
   "cell_type": "code",
   "execution_count": null,
   "metadata": {},
   "outputs": [],
   "source": []
  },
  {
   "cell_type": "code",
   "execution_count": null,
   "metadata": {},
   "outputs": [],
   "source": []
  },
  {
   "cell_type": "code",
   "execution_count": null,
   "metadata": {},
   "outputs": [],
   "source": []
  },
  {
   "cell_type": "code",
   "execution_count": null,
   "metadata": {},
   "outputs": [],
   "source": []
  }
 ],
 "metadata": {
  "kernelspec": {
   "display_name": "Python 3",
   "language": "python",
   "name": "python3"
  },
  "language_info": {
   "codemirror_mode": {
    "name": "ipython",
    "version": 3
   },
   "file_extension": ".py",
   "mimetype": "text/x-python",
   "name": "python",
   "nbconvert_exporter": "python",
   "pygments_lexer": "ipython3",
   "version": "3.7.4"
  }
 },
 "nbformat": 4,
 "nbformat_minor": 2
}
