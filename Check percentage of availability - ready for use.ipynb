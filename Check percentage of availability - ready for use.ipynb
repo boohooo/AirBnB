{
 "cells": [
  {
   "cell_type": "markdown",
   "metadata": {},
   "source": [
    "## User can check the percentage of availability of the airbnb based on the statistics throught the year.\n",
    "\n",
    "How to use:\n",
    "Enter desired listing_id\n",
    "\n",
    "What it does:\n",
    "Calculate the percentage of availability of that listing."
   ]
  },
  {
   "cell_type": "code",
   "execution_count": 5,
   "metadata": {},
   "outputs": [],
   "source": [
    "# Basic Libraries\n",
    "import numpy as np\n",
    "import pandas as pd\n",
    "import calmap # plot the calendar"
   ]
  },
  {
   "cell_type": "markdown",
   "metadata": {},
   "source": [
    "## Currently it is using the original calendar.csv file. Code will work even with change to reference file.\n",
    "Because it will search for the column 'listing_id' to group them into df"
   ]
  },
  {
   "cell_type": "code",
   "execution_count": 6,
   "metadata": {},
   "outputs": [],
   "source": [
    "#import csv into dataframe\n",
    "calendarDF = pd.read_csv('calendar.csv')"
   ]
  },
  {
   "cell_type": "code",
   "execution_count": 7,
   "metadata": {},
   "outputs": [],
   "source": [
    "g = calendarDF.groupby('listing_id') #group by listing_id, now data frame is grouped into different group corresponding to listing_id"
   ]
  },
  {
   "cell_type": "code",
   "execution_count": 8,
   "metadata": {},
   "outputs": [
    {
     "name": "stdout",
     "output_type": "stream",
     "text": [
      "Key in your desired listing id\n",
      "6389657\n"
     ]
    }
   ],
   "source": [
    "#User key in the listing id to check their percentage of availability.\n",
    "print('Key in your desired listing id')\n",
    "listing_id_input =  int(input()) #input data type is a string"
   ]
  },
  {
   "cell_type": "code",
   "execution_count": 9,
   "metadata": {},
   "outputs": [
    {
     "name": "stdout",
     "output_type": "stream",
     "text": [
      "Found!\n"
     ]
    }
   ],
   "source": [
    "#g is a data frame grouped by listing id.\n",
    "listing_id_input = int(listing_id_input) #convert input into interger\n",
    "\n",
    "#default conditions before checking through dataframes and ids.\n",
    "listing_inputExists = False #check if user input of listing id exists in listing id.\n",
    "\n",
    "for listing_id, listing_id_df in g: #for each listing id in g, each dataframe inside the listing id,\n",
    "    if (listing_id == listing_id_input): #check through all listing id for input\n",
    "        listing_inputExists = True\n",
    "        print('Found!')\n",
    "        df = listing_id_df #store the found dataframe into df\n",
    "\n",
    "if (listing_inputExists == False):\n",
    "    print('Not Found.')"
   ]
  },
  {
   "cell_type": "code",
   "execution_count": 10,
   "metadata": {},
   "outputs": [],
   "source": [
    "#available Length: 365\n",
    "\n",
    "ser = pd.Series(df['available']) #store the series (one-dimensional labeled array) of 'available' inside the listing_id_df. \n",
    "data = ser.ne('f') #ne returns True for every element which is Not Equal to the element in passed series.\n",
    "\n",
    "#if unavailable = false, if available = true"
   ]
  },
  {
   "cell_type": "code",
   "execution_count": 11,
   "metadata": {},
   "outputs": [],
   "source": [
    "#calculate number of available days\n",
    "\n",
    "# (index number) , (number of available slots)\n",
    "\n",
    "num = 0 #store number of available \n",
    "\n",
    "for a in data: #for each element in data\n",
    "    if (a == True): #if data is true, print data\n",
    "        num = num +1"
   ]
  },
  {
   "cell_type": "code",
   "execution_count": 12,
   "metadata": {},
   "outputs": [
    {
     "name": "stdout",
     "output_type": "stream",
     "text": [
      "Percentage of availability of listing_id 6389657: 55.07%\n"
     ]
    }
   ],
   "source": [
    "pct = (100*num)/365 #calculate percentage of availability\n",
    "\n",
    "pct = '{0:.2f}%'.format(pct) #convert into 2dp and put % behind the number\n",
    "\n",
    "print('Percentage of availability of listing_id '+str(listing_id_input)+': '+str(pct)) #str(z) to convert z into a string."
   ]
  },
  {
   "cell_type": "code",
   "execution_count": 13,
   "metadata": {},
   "outputs": [
    {
     "data": {
      "text/plain": [
       "(<Figure size 1152x288 with 2 Axes>,\n",
       " array([<matplotlib.axes._subplots.AxesSubplot object at 0x000001B05AB8DC18>,\n",
       "        <matplotlib.axes._subplots.AxesSubplot object at 0x000001B05A3E9EB8>],\n",
       "       dtype=object))"
      ]
     },
     "execution_count": 13,
     "metadata": {},
     "output_type": "execute_result"
    },
    {
     "data": {
      "image/png": "[encoded data removed]",
      "text/plain": [
       "<Figure size 1152x288 with 2 Axes>"
      ]
     },
     "metadata": {
      "needs_background": "light"
     },
     "output_type": "display_data"
    }
   ],
   "source": [
    "\n",
    "df['available_num'] =[3 if x =='t' else -1 for x in df['available']] # instead of t and f, it will be 3 and -1\n",
    "\n",
    "df['date'] = pd.to_datetime(df['date'], format='%Y-%m-%d').dt.strftime('%Y-%m-%d %H:%M:%S') # convert date format with h:m:s\n",
    "\n",
    "events=pd.Series(df['available_num']) # convert the dataset into series\n",
    "\n",
    "events.index= pd.DatetimeIndex(df['date']) # set date as the index \n",
    "\n",
    "calmap.calendarplot(events, monthticks=1, daylabels='MTWTFSS',cmap='YlGn', fillcolor='grey', linewidth=1, fig_kws=dict(figsize=(16, 4)))"
   ]
  },
  {
   "cell_type": "markdown",
   "metadata": {},
   "source": [
    "# End"
   ]
  }
 ],
 "metadata": {
  "kernelspec": {
   "display_name": "Python 3",
   "language": "python",
   "name": "python3"
  },
  "language_info": {
   "codemirror_mode": {
    "name": "ipython",
    "version": 3
   },
   "file_extension": ".py",
   "mimetype": "text/x-python",
   "name": "python",
   "nbconvert_exporter": "python",
   "pygments_lexer": "ipython3",
   "version": "3.7.3"
  }
 },
 "nbformat": 4,
 "nbformat_minor": 2
}
