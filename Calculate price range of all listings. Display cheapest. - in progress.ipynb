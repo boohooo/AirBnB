{
 "cells": [
  {
   "cell_type": "code",
   "execution_count": 1,
   "metadata": {},
   "outputs": [],
   "source": [
    "# Basic Libraries\n",
    "import numpy as np\n",
    "import pandas as pd\n",
    "import ipywidgets as widgets #widgets to make fancy interactive elements\n",
    "import datetime\n",
    "import matplotlib.pyplot as plt #plotting stuff\n",
    "%matplotlib inline"
   ]
  },
  {
   "cell_type": "code",
   "execution_count": 2,
   "metadata": {},
   "outputs": [],
   "source": [
    "#import csv into dataframe\n",
    "calendar_data = pd.read_csv('calendar.csv')"
   ]
  },
  {
   "cell_type": "code",
   "execution_count": 3,
   "metadata": {},
   "outputs": [],
   "source": [
    "g = calendar_data.groupby('listing_id') #group by listing_id, now data frame is grouped into different group corresponding to listing_id"
   ]
  },
  {
   "cell_type": "markdown",
   "metadata": {},
   "source": [
    "# Part 1 - box plot all prices of all listings."
   ]
  },
  {
   "cell_type": "markdown",
   "metadata": {},
   "source": [
    "It takes a whole eon to render every single box plot of all the listing at once. Will have to either pick one to render or render them group by group."
   ]
  },
  {
   "cell_type": "markdown",
   "metadata": {},
   "source": [
    "Would like to render 10 box plots, allow user to go to next page, display next 10."
   ]
  },
  {
   "cell_type": "code",
   "execution_count": null,
   "metadata": {},
   "outputs": [],
   "source": [
    "#group by listing_id\n",
    "\n",
    "for listing_id, listing_id_df in g:\n",
    "    df = listing_id_df\n",
    "    df_price = pd.Series(df['price']) #extract all 'price' columns from df\n",
    "    df_price = df_price.dropna() #remove all NaN, sitll an object type series\n",
    "    df_price = df_price.str.replace('$','') #remove all $\n",
    "    df_price = df_price.str.replace(',','') #remove all , because there are values like $1,000\n",
    "    df_price = df_price.astype(float) #convert to float\n",
    "    df_price_description = df_price.describe() #store all calculated descriptions of dfs\n",
    "    df_price_description.plot.box()#plot all descriptions on a box plot\n",
    "\n"
   ]
  },
  {
   "cell_type": "code",
   "execution_count": 10,
   "metadata": {},
   "outputs": [
    {
     "name": "stdout",
     "output_type": "stream",
     "text": [
      "count    363.0\n",
      "mean      55.0\n",
      "std        0.0\n",
      "min       55.0\n",
      "25%       55.0\n",
      "50%       55.0\n",
      "75%       55.0\n",
      "max       55.0\n",
      "Name: price, dtype: float64\n"
     ]
    },
    {
     "data": {
      "image/png": "[encoded data removed]",
      "text/plain": [
       "<Figure size 432x288 with 1 Axes>"
      ]
     },
     "metadata": {
      "needs_background": "light"
     },
     "output_type": "display_data"
    }
   ],
   "source": [
    "for listing_id, listing_id_df in g:\n",
    "    if (listing_id == 4862719):\n",
    "        df = listing_id_df\n",
    "        df_price = pd.Series(df['price']) #extract all 'price' columns from df\n",
    "        df_price = df_price.dropna() #remove all NaN, sitll an object type series\n",
    "        df_price = df_price.str.replace('$','') #remove all $\n",
    "        df_price = df_price.str.replace(',','') #remove all , because there are values like $1,000\n",
    "        df_price = df_price.astype(float) #convert to float\n",
    "        df_price_description = df_price.describe() #store all calculated descriptions of dfs\n",
    "        print(df_price_description)\n",
    "        df_price_description.plot.box()#plot all descriptions on a box plot"
   ]
  },
  {
   "cell_type": "code",
   "execution_count": null,
   "metadata": {},
   "outputs": [],
   "source": [
    "for listing_id, listing_id_df in g:\n",
    "    if (listing_id == 2493658): #check through all listing id for input\n",
    "        df = listing_id_df\n",
    "\n",
    "\n",
    "df_price = pd.Series(df['price']) #by default df['price'] is a categorical\n",
    "\n",
    "df_price = df_price.dropna() #dropna() drop all NaN\n",
    "\n",
    "df_price = df_price.str.replace('^[^\\d]*', '').astype(float) #removes all the non-numeric characters to the left of the number, and casts to float.\n",
    "\n",
    "df_price_description = df_price.describe()"
   ]
  },
  {
   "cell_type": "code",
   "execution_count": null,
   "metadata": {},
   "outputs": [],
   "source": [
    "df_price_description.plot.box()\n",
    "df_price_description"
   ]
  },
  {
   "cell_type": "markdown",
   "metadata": {},
   "source": [
    "# Price range of all listings"
   ]
  },
  {
   "cell_type": "code",
   "execution_count": null,
   "metadata": {},
   "outputs": [],
   "source": []
  },
  {
   "cell_type": "markdown",
   "metadata": {},
   "source": [
    "# Listing id is input from user. Calculate box plot of price."
   ]
  },
  {
   "cell_type": "code",
   "execution_count": null,
   "metadata": {},
   "outputs": [],
   "source": [
    "#User key in the listing id to check their percentage of availability.\n",
    "print('Key in your desired listing id')\n",
    "listing_id_input =  input() #input data type is a string"
   ]
  },
  {
   "cell_type": "code",
   "execution_count": null,
   "metadata": {},
   "outputs": [],
   "source": [
    "#g is a data frame grouped by listing id.\n",
    "listing_id_input = int(listing_id_input) #convert input into interger\n",
    "\n",
    "#default conditions before checking through dataframes and ids.\n",
    "listing_inputExists = False #check if user input of listing id exists in listing id.\n",
    "\n",
    "for listing_id, listing_id_df in g:\n",
    "    if (listing_id == listing_id_input): #check through all listing id for input\n",
    "        listing_inputExists = True\n",
    "        print('Found')\n",
    "        print(listing_id_df)\n",
    "        df = listing_id_df\n",
    "\n",
    "if (listing_inputExists == False):\n",
    "    print('Not Found')"
   ]
  },
  {
   "cell_type": "code",
   "execution_count": null,
   "metadata": {},
   "outputs": [],
   "source": [
    "#available Length: 365\n",
    "\n",
    "ser = pd.Series(df['available']) #store the series (one-dimensional labeled array) of 'available' inside the listing_id_df. \n",
    "data = ser.ne('f') #ne returns True for every element which is Not Equal to the element in passed series.\n",
    "print (data)\n",
    "\n",
    "#if unavailable = false, if available = true"
   ]
  },
  {
   "cell_type": "code",
   "execution_count": null,
   "metadata": {},
   "outputs": [],
   "source": [
    "# (index number) , (number of available slots)\n",
    "\n",
    "num = 0 #store number of available \n",
    "\n",
    "for a in data: #for each element in data\n",
    "    if (a == True): #if data is true, print data\n",
    "        print(a)\n",
    "        num = num +1\n",
    "\n",
    "print(num)"
   ]
  },
  {
   "cell_type": "code",
   "execution_count": null,
   "metadata": {},
   "outputs": [],
   "source": [
    "pct = 100 - ((100*num)/365) #calculate percentage of availability\n",
    "\n",
    "pct = '{0:.2f}%'.format(pct) #convert into 2dp and put % behind the number\n",
    "\n",
    "print('Percentage of availability of '+str(listing_id_input)+': '+str(pct)) #str(z) to convert z into a string."
   ]
  },
  {
   "cell_type": "code",
   "execution_count": null,
   "metadata": {},
   "outputs": [],
   "source": []
  }
 ],
 "metadata": {
  "kernelspec": {
   "display_name": "Python 3",
   "language": "python",
   "name": "python3"
  },
  "language_info": {
   "codemirror_mode": {
    "name": "ipython",
    "version": 3
   },
   "file_extension": ".py",
   "mimetype": "text/x-python",
   "name": "python",
   "nbconvert_exporter": "python",
   "pygments_lexer": "ipython3",
   "version": "3.7.3"
  }
 },
 "nbformat": 4,
 "nbformat_minor": 2
}
