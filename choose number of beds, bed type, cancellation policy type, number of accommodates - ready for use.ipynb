{
 "cells": [
  {
   "cell_type": "code",
   "execution_count": 1,
   "metadata": {},
   "outputs": [],
   "source": [
    "# Basic Libraries\n",
    "import numpy as np\n",
    "import pandas as pd\n",
    "\n",
    "import ipywidgets as widgets #widgets to make fancy interactive elements\n",
    "from ipywidgets import interact, interact_manual #creates user interface (UI) controls for exploring code and data interactively\n",
    "from IPython.display import Markdown, display"
   ]
  },
  {
   "cell_type": "code",
   "execution_count": 2,
   "metadata": {},
   "outputs": [],
   "source": [
    "listings_data = pd.read_csv('listings.csv')"
   ]
  },
  {
   "cell_type": "code",
   "execution_count": 3,
   "metadata": {},
   "outputs": [],
   "source": [
    "def printmd(string): #type printmd() instead of print() and add ** before after string (before the quotation marks) to make the string bold\n",
    "    display(Markdown(string))"
   ]
  },
  {
   "cell_type": "markdown",
   "metadata": {},
   "source": [
    "# Display listings that have x(user input) number of beds."
   ]
  },
  {
   "cell_type": "code",
   "execution_count": 4,
   "metadata": {},
   "outputs": [
    {
     "data": {
      "text/markdown": [
       "**How many beds?**"
      ],
      "text/plain": [
       "<IPython.core.display.Markdown object>"
      ]
     },
     "metadata": {},
     "output_type": "display_data"
    },
    {
     "data": {
      "application/vnd.jupyter.widget-view+json": {
       "model_id": "df980847249a4df28ed12dcbc174936f",
       "version_major": 2,
       "version_minor": 0
      },
      "text/plain": [
       "interactive(children=(IntSlider(value=1, description='Beds', max=15, min=1), Button(description='Run Interact'…"
      ]
     },
     "metadata": {},
     "output_type": "display_data"
    },
    {
     "data": {
      "text/plain": [
       "<function __main__.f(Beds)>"
      ]
     },
     "metadata": {},
     "output_type": "display_data"
    }
   ],
   "source": [
    "def f(Beds):\n",
    "    print(\"\\nNumber of bed(s):\", Beds)\n",
    "    print(\"\\nDisplaying listings with \", Beds, \" amount of beds.\")\n",
    "    print()\n",
    "    selectedrows = listings_data.loc[listings_data.beds == Beds]\n",
    "    display(selectedrows)\n",
    "\n",
    "\n",
    "printmd(\"**How many beds?**\")\n",
    "#interact_manual(f, Beds = widgets.IntSlider(min=1, max=15)); #interact autogenerates UI controls for function arguments, and then calls the function with those arguments when you manipulate the controls interactively.\n",
    "\n",
    "im = interact_manual(f, Beds = widgets.IntSlider(min=1, max=15))\n",
    "\n",
    "im.widget.children[1].description = 'Confirm' #childern[0] is the slider header. children[1] is the button.\n",
    "im.widget.children[1].style.button_color = 'lightgreen'\n",
    "im.widget.children[0].description = 'No. of Beds'\n",
    "\n",
    "display(im)"
   ]
  },
  {
   "cell_type": "markdown",
   "metadata": {},
   "source": [
    "# Display listings that have user selected policy type."
   ]
  },
  {
   "cell_type": "code",
   "execution_count": 5,
   "metadata": {},
   "outputs": [
    {
     "data": {
      "text/markdown": [
       "**Choose cancelation policy type**"
      ],
      "text/plain": [
       "<IPython.core.display.Markdown object>"
      ]
     },
     "metadata": {},
     "output_type": "display_data"
    },
    {
     "data": {
      "application/vnd.jupyter.widget-view+json": {
       "model_id": "6cc161375fee412c9b7418ddcf9bb5fb",
       "version_major": 2,
       "version_minor": 0
      },
      "text/plain": [
       "interactive(children=(Dropdown(description='policy', options=('moderate', 'flexible', 'strict'), value='modera…"
      ]
     },
     "metadata": {},
     "output_type": "display_data"
    }
   ],
   "source": [
    "def cancelation(policy):\n",
    "    print(\"Policy type:\", policy)\n",
    "    selectedrows = listings_data.loc[listings_data.cancellation_policy == policy]\n",
    "    display(selectedrows)\n",
    "    \n",
    "\n",
    "printmd(\"**Choose cancelation policy type**\")\n",
    "interact(cancelation, policy=['moderate','flexible','strict']);"
   ]
  },
  {
   "cell_type": "markdown",
   "metadata": {},
   "source": [
    "# Display listings of choosen bed type."
   ]
  },
  {
   "cell_type": "code",
   "execution_count": 6,
   "metadata": {},
   "outputs": [
    {
     "data": {
      "text/markdown": [
       "**Choose bed type**"
      ],
      "text/plain": [
       "<IPython.core.display.Markdown object>"
      ]
     },
     "metadata": {},
     "output_type": "display_data"
    },
    {
     "data": {
      "application/vnd.jupyter.widget-view+json": {
       "model_id": "4fc9518879cf4f80bdfde5b606678848",
       "version_major": 2,
       "version_minor": 0
      },
      "text/plain": [
       "interactive(children=(Dropdown(description='bed', options=('Airbed', 'Couch', 'Futon', 'Pull-out Sofa', 'Real …"
      ]
     },
     "metadata": {},
     "output_type": "display_data"
    }
   ],
   "source": [
    "def bedtype(bed):\n",
    "    print(\"Bed type:\", bed)\n",
    "    selectedrows = listings_data.loc[listings_data.bed_type == bed]\n",
    "    display(selectedrows)\n",
    "    \n",
    "\n",
    "printmd(\"**Choose bed type**\")\n",
    "interact(bedtype, bed=['Airbed', 'Couch', 'Futon','Pull-out Sofa', 'Real Bed']);"
   ]
  },
  {
   "cell_type": "markdown",
   "metadata": {},
   "source": [
    "# Display listings fit for the number of accommodates."
   ]
  },
  {
   "cell_type": "code",
   "execution_count": 7,
   "metadata": {},
   "outputs": [
    {
     "data": {
      "text/markdown": [
       "**Enter Number of accommodates:**"
      ],
      "text/plain": [
       "<IPython.core.display.Markdown object>"
      ]
     },
     "metadata": {},
     "output_type": "display_data"
    },
    {
     "data": {
      "application/vnd.jupyter.widget-view+json": {
       "model_id": "9a3e77c890154cebbe4418d12eb1d59b",
       "version_major": 2,
       "version_minor": 0
      },
      "text/plain": [
       "interactive(children=(Text(value='Enter a number', description='x'), Button(description='Run Interact', style=…"
      ]
     },
     "metadata": {},
     "output_type": "display_data"
    },
    {
     "name": "stdout",
     "output_type": "stream",
     "text": [
      "\n"
     ]
    },
    {
     "data": {
      "text/plain": [
       "<function __main__.accomodates(x)>"
      ]
     },
     "metadata": {},
     "output_type": "display_data"
    }
   ],
   "source": [
    "def accomodates(x):\n",
    "    if x.isdigit():\n",
    "        print(\"\\nDisplaying listings that allow for that number of people.\")\n",
    "        x = int(x)\n",
    "        selectedrows = listings_data.loc[listings_data.accommodates >= x]\n",
    "        display(selectedrows)\n",
    "    else:\n",
    "        print(\"Please enter a number.\")\n",
    "\n",
    "printmd(\"**Enter Number of accommodates:**\")\n",
    "im = interact_manual(accomodates, x='Enter a number')\n",
    "print()\n",
    "\n",
    "im.widget.children[1].description = 'Click to Confirm' #childern[0] is the slider header. children[1] is the button.\n",
    "#im.widget.children[1].style.button_color = ''\n",
    "im.widget.children[0].description = 'No. of ppl'\n",
    "\n",
    "display(im)"
   ]
  }
 ],
 "metadata": {
  "kernelspec": {
   "display_name": "Python 3",
   "language": "python",
   "name": "python3"
  },
  "language_info": {
   "codemirror_mode": {
    "name": "ipython",
    "version": 3
   },
   "file_extension": ".py",
   "mimetype": "text/x-python",
   "name": "python",
   "nbconvert_exporter": "python",
   "pygments_lexer": "ipython3",
   "version": "3.7.3"
  }
 },
 "nbformat": 4,
 "nbformat_minor": 2
}
