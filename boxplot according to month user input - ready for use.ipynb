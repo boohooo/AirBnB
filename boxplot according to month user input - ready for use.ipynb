{
 "cells": [
  {
   "cell_type": "markdown",
   "metadata": {},
   "source": [
    "## user input id > display price of id > user input month > display price of month"
   ]
  },
  {
   "cell_type": "code",
   "execution_count": 1,
   "metadata": {},
   "outputs": [],
   "source": [
    "# Basic Libraries\n",
    "import numpy as np\n",
    "import pandas as pd\n",
    "import ipywidgets as widgets #widgets to make fancy interactive elements\n",
    "import datetime\n",
    "import matplotlib.pyplot as plt #plotting stuff\n",
    "%matplotlib inline"
   ]
  },
  {
   "cell_type": "code",
   "execution_count": 2,
   "metadata": {},
   "outputs": [],
   "source": [
    "#import csv into dataframe\n",
    "calendar_data = pd.read_csv('calendar.csv')"
   ]
  },
  {
   "cell_type": "code",
   "execution_count": 3,
   "metadata": {},
   "outputs": [
    {
     "data": {
      "text/html": [
       "<div>\n",
       "<style scoped>\n",
       "    .dataframe tbody tr th:only-of-type {\n",
       "        vertical-align: middle;\n",
       "    }\n",
       "\n",
       "    .dataframe tbody tr th {\n",
       "        vertical-align: top;\n",
       "    }\n",
       "\n",
       "    .dataframe thead th {\n",
       "        text-align: right;\n",
       "    }\n",
       "</style>\n",
       "<table border=\"1\" class=\"dataframe\">\n",
       "  <thead>\n",
       "    <tr style=\"text-align: right;\">\n",
       "      <th></th>\n",
       "      <th>listing_id</th>\n",
       "      <th>date</th>\n",
       "      <th>available</th>\n",
       "      <th>price</th>\n",
       "    </tr>\n",
       "  </thead>\n",
       "  <tbody>\n",
       "    <tr>\n",
       "      <th>0</th>\n",
       "      <td>241032</td>\n",
       "      <td>2016-01-04</td>\n",
       "      <td>t</td>\n",
       "      <td>85.0</td>\n",
       "    </tr>\n",
       "    <tr>\n",
       "      <th>1</th>\n",
       "      <td>241032</td>\n",
       "      <td>2016-01-05</td>\n",
       "      <td>t</td>\n",
       "      <td>85.0</td>\n",
       "    </tr>\n",
       "    <tr>\n",
       "      <th>2</th>\n",
       "      <td>241032</td>\n",
       "      <td>2016-01-06</td>\n",
       "      <td>f</td>\n",
       "      <td>NaN</td>\n",
       "    </tr>\n",
       "    <tr>\n",
       "      <th>3</th>\n",
       "      <td>241032</td>\n",
       "      <td>2016-01-07</td>\n",
       "      <td>f</td>\n",
       "      <td>NaN</td>\n",
       "    </tr>\n",
       "    <tr>\n",
       "      <th>4</th>\n",
       "      <td>241032</td>\n",
       "      <td>2016-01-08</td>\n",
       "      <td>f</td>\n",
       "      <td>NaN</td>\n",
       "    </tr>\n",
       "  </tbody>\n",
       "</table>\n",
       "</div>"
      ],
      "text/plain": [
       "   listing_id        date available  price\n",
       "0      241032  2016-01-04         t   85.0\n",
       "1      241032  2016-01-05         t   85.0\n",
       "2      241032  2016-01-06         f    NaN\n",
       "3      241032  2016-01-07         f    NaN\n",
       "4      241032  2016-01-08         f    NaN"
      ]
     },
     "execution_count": 3,
     "metadata": {},
     "output_type": "execute_result"
    }
   ],
   "source": [
    "#remove all special characters in price column and convert price column to float\n",
    "calendar_data['price'] = calendar_data['price'].str.replace(r'\\$',\"\")\n",
    "calendar_data['price'] = calendar_data['price'].str.replace(r'\\,',\"\")\n",
    "calendar_data['price'] = pd.to_numeric(calendar_data['price'], downcast=\"float\") #convert column to float "
   ]
  },
  {
   "cell_type": "code",
   "execution_count": null,
   "metadata": {},
   "outputs": [],
   "source": [
    "#User key in the listing id to check their percentage of availability.\n",
    "print('Key in your desired listing id')\n",
    "listing_id_input =  int(input()) #input data type is a string"
   ]
  },
  {
   "cell_type": "code",
   "execution_count": null,
   "metadata": {},
   "outputs": [],
   "source": [
    "#convered data column into datetime\n",
    "calendar_data['date']= pd.to_datetime(calendar_data['date'])\n",
    "\n",
    "g = calendar_data.groupby('listing_id')\n",
    "\n",
    "for listing_id, listing_id_df in g:\n",
    "    if (listing_id == listing_id_input):\n",
    "        #display(listing_id_df)\n",
    "        selected_listingid = listing_id_df\n",
    "    else:\n",
    "        (\"Invalid input\")"
   ]
  },
  {
   "cell_type": "code",
   "execution_count": null,
   "metadata": {},
   "outputs": [],
   "source": [
    "import ipywidgets as widgets #widgets to make fancy interactive elements\n",
    "from ipywidgets import interact, interact_manual #creates user interface (UI) controls for exploring code and data interactively\n",
    "from IPython.display import Markdown, display\n",
    "\n",
    "def pricebymonth(month):\n",
    "    print(\"Month of\", month)\n",
    "    selected_month = selected_listingid.loc[selected_listingid.date.dt.month_name() == month]\n",
    "    display(selected_month.head())\n",
    "    print(\"Average price of this month for selected listing:\")\n",
    "    print( '$%.2f' % (selected_month.price.mean()) )\n",
    "    print()\n",
    "    boxplt = selected_month.price.plot.box()\n",
    "    boxplt.set_title('Listing id: '+ str(listing_id_input))\n",
    "    boxplt.set_xlabel('range')\n",
    "    plt.show()\n",
    "    \n",
    "interact(pricebymonth, month=['January', 'Febuary', 'March','April', 'May', 'June', 'July', \n",
    "                              'August', 'September', 'October', 'November', 'December']);"
   ]
  }
 ],
 "metadata": {
  "kernelspec": {
   "display_name": "Python 3",
   "language": "python",
   "name": "python3"
  },
  "language_info": {
   "codemirror_mode": {
    "name": "ipython",
    "version": 3
   },
   "file_extension": ".py",
   "mimetype": "text/x-python",
   "name": "python",
   "nbconvert_exporter": "python",
   "pygments_lexer": "ipython3",
   "version": "3.7.3"
  }
 },
 "nbformat": 4,
 "nbformat_minor": 2
}
